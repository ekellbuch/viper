{
 "cells": [
  {
   "cell_type": "markdown",
   "id": "8803efa6-682e-4525-a5ab-511fda091cbb",
   "metadata": {
    "pycharm": {
     "name": "#%% md\n"
    },
    "tags": []
   },
   "source": [
    "# Model demo\n",
    "\n",
    "This notebook is meant to be a quick entry into ViperGPT. **Warning:** This notebook will execute arbitrary code on your machine. Proceed at your own risk.\n",
    "\n",
    "Before running this code, modify any parameters at `configs/my_config.yaml`. For example, you may want to change the BLIP model (`blip_v2_model_type`) from XXL to XL if your GPU does not have enough memory."
   ]
  },
  {
   "cell_type": "code",
   "execution_count": null,
   "id": "4900043c",
   "metadata": {},
   "outputs": [],
   "source": [
    "%load_ext autoreload\n",
    "%autoreload 2\n",
    "import torch\n",
    "print(torch.cuda.is_available())\n",
    "import torch\n",
    "device = torch.device(\"cuda\" if torch.cuda.is_available() else \"cpu\")\n",
    "\n",
    "import os\n",
    "os.environ[\"PATH\"] += os.pathsep + \"/usr/local/cuda/bin\"\n",
    "os.environ[\"LD_LIBRARY_PATH\"] = \"/usr/local/cuda/lib64\""
   ]
  },
  {
   "cell_type": "code",
   "execution_count": null,
   "id": "c38a2623-4220-41ea-a1cb-a95ad2e41d83",
   "metadata": {
    "ExecuteTime": {
     "end_time": "2023-08-01T18:01:05.514649Z",
     "start_time": "2023-08-01T18:01:03.268231Z"
    },
    "pycharm": {
     "name": "#%%\n"
    },
    "tags": []
   },
   "outputs": [],
   "source": [
    "from main_simple_lib import *"
   ]
  },
  {
   "cell_type": "code",
   "execution_count": null,
   "id": "58ef451e",
   "metadata": {},
   "outputs": [],
   "source": [
    "import openai \n",
    "openai.Model.list()"
   ]
  },
  {
   "cell_type": "code",
   "execution_count": null,
   "id": "4a20c2dc",
   "metadata": {},
   "outputs": [],
   "source": [
    "from vision_processes import consumers\n",
    "model_name=\"codex\"\n",
    "input_type=\"video\""
   ]
  },
  {
   "cell_type": "code",
   "execution_count": null,
   "id": "2314debc",
   "metadata": {},
   "outputs": [],
   "source": [
    "consumers.keys()"
   ]
  },
  {
   "cell_type": "code",
   "execution_count": null,
   "id": "d29f693d",
   "metadata": {},
   "outputs": [],
   "source": [
    "%%timeit -r 1 -n 1 \n",
    "# Let's try a couple of consumers\n",
    "query = 'In how many frames are both paws on the wheel?'\n",
    "out = consumers[model_name](prompt=query, input_type=input_type)"
   ]
  },
  {
   "cell_type": "code",
   "execution_count": null,
   "id": "793d11dc",
   "metadata": {},
   "outputs": [],
   "source": [
    "%%timeit -r 1 -n 1 \n",
    "# when the prompt does not have videosegment class 6 sec\n",
    "# when the prompt does have videosegment class? over 20 sec over 4097 tokens\n",
    "\n",
    "get_code(query)"
   ]
  },
  {
   "cell_type": "code",
   "execution_count": null,
   "id": "ec518f76",
   "metadata": {},
   "outputs": [],
   "source": [
    "# Even though the length of the sentence is short, we cannot process this sentence.\n",
    "# \"In how many frames are both paws in the wheel?\" This model's maximum context length is 4097 tokens. However, you requested 4548 tokens (4036 in the messages, 512 in the completion). Please reduce the length of the messages or completion.\n",
    "%% timeit -r 1 -n 1\n",
    "query =\"How many frames have both paws in the wheel?\"\n",
    "code = forward(\"codex\", prompt=query, input_type=\"video\")"
   ]
  },
  {
   "cell_type": "code",
   "execution_count": null,
   "id": "c3e2fe35",
   "metadata": {},
   "outputs": [],
   "source": []
  },
  {
   "cell_type": "code",
   "execution_count": null,
   "id": "e9c1c99d",
   "metadata": {},
   "outputs": [],
   "source": [
    "%timeit \n",
    "query =\"How many frames have both paws in the wheel?\"\n",
    "code = forward(\"codex\", prompt=query, input_type=\"image\")"
   ]
  },
  {
   "cell_type": "code",
   "execution_count": null,
   "id": "c8ca5a3f",
   "metadata": {},
   "outputs": [],
   "source": [
    "%timeit \n",
    "query =\"How many frames have both paws in the wheel?\"\n",
    "code = forward(\"codex\", prompt=query, input_type=\"video\")"
   ]
  },
  {
   "cell_type": "code",
   "execution_count": null,
   "id": "9fda038a",
   "metadata": {},
   "outputs": [],
   "source": [
    "if config.codex.model not in ('gpt-3.5-turbo', 'gpt-4'):\n",
    "    code = f'def execute_command(image, my_fig, time_wait_between_lines, syntax):' + code # chat models give execute_command due to system behaviour\n",
    "code_for_syntax = code.replace(\"(image, my_fig, time_wait_between_lines, syntax)\", \"(image)\")\n",
    "syntax_1 = Syntax(code_for_syntax, \"python\", theme=\"monokai\", line_numbers=True, start_line=0)\n",
    "console.print(syntax_1)\n"
   ]
  },
  {
   "cell_type": "code",
   "execution_count": null,
   "id": "5b8baf20",
   "metadata": {},
   "outputs": [],
   "source": [
    "code = ast.unparse(ast.parse(code))\n",
    "code_for_syntax_2 = code.replace(\"(image, my_fig, time_wait_between_lines, syntax)\", \"(image)\")\n",
    "syntax_2 = Syntax(code_for_syntax_2, \"python\", theme=\"monokai\", line_numbers=True, start_line=0)\n"
   ]
  },
  {
   "cell_type": "code",
   "execution_count": null,
   "id": "c3103647",
   "metadata": {},
   "outputs": [],
   "source": []
  },
  {
   "cell_type": "code",
   "execution_count": null,
   "id": "fa0c2d7c",
   "metadata": {},
   "outputs": [],
   "source": []
  },
  {
   "cell_type": "code",
   "execution_count": null,
   "id": "4dc24cdf",
   "metadata": {},
   "outputs": [],
   "source": [
    "# occlussion?\n",
    "# fast movements?\n",
    "# more realistic videos\n"
   ]
  },
  {
   "cell_type": "code",
   "execution_count": null,
   "id": "64b1841c",
   "metadata": {
    "pycharm": {
     "name": "#%%\n"
    }
   },
   "outputs": [],
   "source": [
    "video_path = \"/home/ekellbuch/vits/viper/data/ibl1/ibl1/labeled-data/ibl1\"\n",
    "\n",
    "im = load_image(im_path)\n",
    "query = 'Are there two paws in each frame?'\n",
    "\n",
    "show_single_image(im)\n",
    "code = get_code(query)"
   ]
  },
  {
   "cell_type": "code",
   "execution_count": null,
   "id": "e2de1e4e",
   "metadata": {
    "pycharm": {
     "name": "#%%\n"
    }
   },
   "outputs": [],
   "source": [
    "output = execute_code(code, im, show_intermediate_steps=True)"
   ]
  },
  {
   "cell_type": "code",
   "execution_count": null,
   "id": "df5d8bd7",
   "metadata": {},
   "outputs": [],
   "source": [
    "class ImageFolderDataset(Dataset):\n",
    "    def __init__(self, folder_path, transform=None):\n",
    "        self.folder_path = folder_path\n",
    "        self.image_list = os.listdir(folder_path)\n",
    "        self.transform = transform\n",
    "\n",
    "    def __len__(self):\n",
    "        return len(self.image_list)\n",
    "\n",
    "    def __getitem__(self, index):\n",
    "        image_path = os.path.join(self.folder_path, self.image_list[index])\n",
    "        image = Image.open(image_path).convert(\"RGB\")\n",
    "\n",
    "        if self.transform is not None:\n",
    "            image = self.transform(image)\n",
    "\n",
    "        return image\n",
    "    \n",
    "def load_video(folder_path):\n",
    "    transform = transforms.Compose([\n",
    "    transforms.ToTensor(),\n",
    "])\n",
    "    dataset = ImageFolderDataset(folder_path, transform=transform)\n",
    "    #batch_size = 32 \n",
    "    #data_loader = DataLoader(dataset, batch_size=batch_size, shuffle=True)\n",
    "    tensor_sizes = []\n",
    "    for image_tensor in dataset:\n",
    "        tensor_size = image_tensor#.size()\n",
    "        tensor_sizes.append(tensor_size)\n",
    "    return tensor_sizes\n",
    "    \n",
    "    "
   ]
  },
  {
   "cell_type": "code",
   "execution_count": null,
   "id": "12ff82ae",
   "metadata": {},
   "outputs": [],
   "source": []
  }
 ],
 "metadata": {
  "kernelspec": {
   "display_name": "Python 3 (ipykernel)",
   "language": "python",
   "name": "python3"
  },
  "language_info": {
   "codemirror_mode": {
    "name": "ipython",
    "version": 3
   },
   "file_extension": ".py",
   "mimetype": "text/x-python",
   "name": "python",
   "nbconvert_exporter": "python",
   "pygments_lexer": "ipython3",
   "version": "3.10.12"
  },
  "vscode": {
   "interpreter": {
    "hash": "3bbf5833f6031e7eb9f1fcd40cf51c4ab635739e0d954109c2685ec8f3ebda4f"
   }
  }
 },
 "nbformat": 4,
 "nbformat_minor": 5
}
